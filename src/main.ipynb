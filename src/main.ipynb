{
 "cells": [
  {
   "cell_type": "code",
   "execution_count": null,
   "metadata": {},
   "outputs": [],
   "source": [
    "import anndata as ad\n",
    "import scvi\n",
    "import scanpy as sc\n",
    "import mrvi\n",
    "import pandas as pd\n",
    "import scipy as sp"
   ]
  },
  {
   "attachments": {},
   "cell_type": "markdown",
   "metadata": {},
   "source": [
    "# Exploring AnnData objects\n",
    "(don't delete this, keep for future reference)"
   ]
  },
  {
   "cell_type": "code",
   "execution_count": null,
   "metadata": {},
   "outputs": [],
   "source": [
    "# # Listing vars, i.e. cell barcodes (auto ignores the first column titled 'gene', unlike pandas)\n",
    "# adata.var_names\n",
    "\n",
    "# # Getting the gene names\n",
    "# adata.obs_names\n",
    "\n",
    "# # Getting the counts\n",
    "# adata.X\n",
    "\n",
    "# # Sparsifying if raw and de-sparsifying if not\n",
    "# adata.X = sp.sparse.csr_matrix(adata.X)\n",
    "# adata.X.toarray()"
   ]
  },
  {
   "cell_type": "code",
   "execution_count": null,
   "metadata": {},
   "outputs": [],
   "source": [
    "untreated_1_data = \"./../data/untreated1.h5ad\"\n",
    "adata = sc.read(untreated_1_data)"
   ]
  },
  {
   "cell_type": "code",
   "execution_count": null,
   "metadata": {},
   "outputs": [],
   "source": [
    "# Confirming the data is still the same\n",
    "# adata.obs"
   ]
  },
  {
   "cell_type": "code",
   "execution_count": null,
   "metadata": {},
   "outputs": [],
   "source": [
    "# Sample (e.g. donors, perturbations, etc.) should go in sample_key\n",
    "# Sites, plates, and other factors should go in categorical_nuisance_keys\n",
    "mrvi.MrVI.setup_anndata(adata, sample_key=None, categorical_nuisance_keys=None)"
   ]
  },
  {
   "cell_type": "code",
   "execution_count": null,
   "metadata": {},
   "outputs": [],
   "source": [
    "mrvi_model = mrvi.MrVI(adata)\n",
    "mrvi_model.train()"
   ]
  },
  {
   "cell_type": "code",
   "execution_count": null,
   "metadata": {},
   "outputs": [],
   "source": [
    "# Get z representation\n",
    "adata.obsm[\"X_mrvi_z\"] = mrvi_model.get_latent_representation(give_z=True)\n",
    "# Get u representation\n",
    "adata.obsm[\"X_mrvi_u\"] = mrvi_model.get_latent_representation(give_z=False)\n",
    "# Cells by n_sample by n_latent\n",
    "cell_sample_representations = mrvi_model.get_local_sample_representation()\n",
    "# Cells by n_sample by n_sample\n",
    "cell_sample_sample_distances = mrvi_model.get_local_sample_representation(return_distances=True)"
   ]
  }
 ],
 "metadata": {
  "kernelspec": {
   "display_name": "GeneratingResistance",
   "language": "python",
   "name": "python3"
  },
  "language_info": {
   "codemirror_mode": {
    "name": "ipython",
    "version": 3
   },
   "file_extension": ".py",
   "mimetype": "text/x-python",
   "name": "python",
   "nbconvert_exporter": "python",
   "pygments_lexer": "ipython3",
   "version": "3.9.16"
  },
  "orig_nbformat": 4
 },
 "nbformat": 4,
 "nbformat_minor": 2
}
