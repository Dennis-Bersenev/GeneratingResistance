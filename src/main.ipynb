{
 "cells": [
  {
   "cell_type": "code",
   "execution_count": 1,
   "metadata": {},
   "outputs": [
    {
     "name": "stderr",
     "output_type": "stream",
     "text": [
      "Global seed set to 0\n",
      "/home/dennis/miniconda3/envs/compbioGPU/lib/python3.9/site-packages/flax/struct.py:132: FutureWarning: jax.tree_util.register_keypaths is deprecated, and will be removed in a future release. Please use `register_pytree_with_keys()` instead.\n",
      "  jax.tree_util.register_keypaths(data_clz, keypaths)\n",
      "/home/dennis/miniconda3/envs/compbioGPU/lib/python3.9/site-packages/flax/struct.py:132: FutureWarning: jax.tree_util.register_keypaths is deprecated, and will be removed in a future release. Please use `register_pytree_with_keys()` instead.\n",
      "  jax.tree_util.register_keypaths(data_clz, keypaths)\n",
      "/home/dennis/miniconda3/envs/compbioGPU/lib/python3.9/site-packages/flax/struct.py:132: FutureWarning: jax.tree_util.register_keypaths is deprecated, and will be removed in a future release. Please use `register_pytree_with_keys()` instead.\n",
      "  jax.tree_util.register_keypaths(data_clz, keypaths)\n"
     ]
    }
   ],
   "source": [
    "import anndata as ad\n",
    "import scvi\n",
    "import scanpy as sc\n",
    "import mrvi\n",
    "import pandas as pd\n",
    "import scipy as sp\n",
    "import numpy as np"
   ]
  },
  {
   "attachments": {},
   "cell_type": "markdown",
   "metadata": {},
   "source": [
    "# Exploring AnnData objects\n",
    "(don't delete this, keep for future reference)"
   ]
  },
  {
   "cell_type": "code",
   "execution_count": 2,
   "metadata": {},
   "outputs": [],
   "source": [
    "# # Listing vars, i.e. cell barcodes (auto ignores the first column titled 'gene', unlike pandas)\n",
    "# adata.var_names\n",
    "\n",
    "# # Getting the gene names\n",
    "# adata.obs_names\n",
    "\n",
    "# # Getting the counts\n",
    "# adata.X\n",
    "\n",
    "# # Sparsifying if raw and de-sparsifying if not\n",
    "# adata.X = sp.sparse.csr_matrix(adata.X)\n",
    "# adata.X.toarray()"
   ]
  },
  {
   "cell_type": "code",
   "execution_count": 3,
   "metadata": {},
   "outputs": [],
   "source": [
    "untreated_1_data = \"./../untreated1.h5ad\"\n",
    "adata = sc.read(untreated_1_data)"
   ]
  },
  {
   "cell_type": "code",
   "execution_count": null,
   "metadata": {},
   "outputs": [],
   "source": [
    "# TODO: figure out how to use this pipeline with multisample data, then read in all the samples, transpose 'em, combine into a single datastructure, pre-process, and go.  "
   ]
  },
  {
   "cell_type": "code",
   "execution_count": 4,
   "metadata": {},
   "outputs": [],
   "source": [
    "# From gene x cell to cell x gene matrix (as downstream functions expect)\n",
    "adata = adata.transpose()"
   ]
  },
  {
   "cell_type": "code",
   "execution_count": 5,
   "metadata": {},
   "outputs": [],
   "source": [
    "# Confirming the data is as expected\n",
    "# adata.obs\n",
    "# adata.var_names"
   ]
  },
  {
   "cell_type": "code",
   "execution_count": 11,
   "metadata": {},
   "outputs": [],
   "source": [
    "# Trying to coerce the adata to work!\n",
    "adata.obs[\"sample\"] = np.random.choice(15, size=adata.shape[0])"
   ]
  },
  {
   "cell_type": "code",
   "execution_count": 23,
   "metadata": {},
   "outputs": [
    {
     "data": {
      "text/plain": [
       "410143"
      ]
     },
     "execution_count": 23,
     "metadata": {},
     "output_type": "execute_result"
    }
   ],
   "source": [
    "adata.obs[\"sample\"]"
   ]
  },
  {
   "cell_type": "code",
   "execution_count": 24,
   "metadata": {},
   "outputs": [],
   "source": [
    "# testing some weirdness\n",
    "batch_si = len(adata.obs)\n",
    "n_batches = 1\n",
    "batch = []\n",
    "for i in range(n_batches):\n",
    "    batch += [f\"batch_{i}\"] * batch_si\n",
    "\n",
    "adata.obs[\"batch\"] = pd.Categorical(batch)\n",
    "# type(pd.Categorical(batch))\n",
    "# batch"
   ]
  },
  {
   "cell_type": "code",
   "execution_count": 25,
   "metadata": {},
   "outputs": [],
   "source": [
    "# Sample (e.g. donors, perturbations, etc.) should go in sample_key\n",
    "# Sites, plates, and other factors should go in categorical_nuisance_keys\n",
    "# mrvi.MrVI.setup_anndata(adata)\n",
    "mrvi.MrVI.setup_anndata(adata, sample_key=\"sample\", categorical_nuisance_keys=[\"batch\"])"
   ]
  },
  {
   "cell_type": "code",
   "execution_count": 26,
   "metadata": {},
   "outputs": [
    {
     "name": "stderr",
     "output_type": "stream",
     "text": [
      "GPU available: True, used: True\n",
      "TPU available: False, using: 0 TPU cores\n",
      "IPU available: False, using: 0 IPUs\n",
      "LOCAL_RANK: 0 - CUDA_VISIBLE_DEVICES: [0]\n"
     ]
    },
    {
     "name": "stdout",
     "output_type": "stream",
     "text": [
      "Epoch 1/1: 100%|██████████| 1/1 [00:29<00:00, 29.83s/it, loss=149, v_num=1]"
     ]
    },
    {
     "name": "stderr",
     "output_type": "stream",
     "text": [
      "GPU available: True, used: True\n",
      "TPU available: False, using: 0 TPU cores\n",
      "IPU available: False, using: 0 IPUs\n",
      "LOCAL_RANK: 0 - CUDA_VISIBLE_DEVICES: [0]\n"
     ]
    },
    {
     "name": "stdout",
     "output_type": "stream",
     "text": [
      "\n",
      "Epoch 1/1: 100%|██████████| 1/1 [00:30<00:00, 30.36s/it, loss=38.8, v_num=1]"
     ]
    },
    {
     "name": "stderr",
     "output_type": "stream",
     "text": [
      "GPU available: True, used: True\n",
      "TPU available: False, using: 0 TPU cores\n",
      "IPU available: False, using: 0 IPUs\n",
      "LOCAL_RANK: 0 - CUDA_VISIBLE_DEVICES: [0]\n"
     ]
    },
    {
     "name": "stdout",
     "output_type": "stream",
     "text": [
      "\n",
      "Epoch 1/1: 100%|██████████| 1/1 [00:35<00:00, 35.33s/it, loss=50.4, v_num=1]"
     ]
    },
    {
     "name": "stderr",
     "output_type": "stream",
     "text": [
      "GPU available: True, used: True\n",
      "TPU available: False, using: 0 TPU cores\n",
      "IPU available: False, using: 0 IPUs\n",
      "LOCAL_RANK: 0 - CUDA_VISIBLE_DEVICES: [0]\n"
     ]
    },
    {
     "name": "stdout",
     "output_type": "stream",
     "text": [
      "\n",
      "Epoch 1/1: 100%|██████████| 1/1 [00:31<00:00, 31.97s/it, loss=35.8, v_num=1]\n"
     ]
    }
   ],
   "source": [
    "for linear_decoder_uz in [True, False]:\n",
    "    for linear_decoder_zx in [True, False]:\n",
    "        model = mrvi.MrVI(\n",
    "            adata,\n",
    "            n_latent_sample=5,\n",
    "            linear_decoder_zx=linear_decoder_zx,\n",
    "            linear_decoder_uz=linear_decoder_uz,\n",
    "        )\n",
    "        model.train(1, check_val_every_n_epoch=1, train_size=0.5)\n",
    "        model.history"
   ]
  },
  {
   "cell_type": "code",
   "execution_count": 27,
   "metadata": {},
   "outputs": [
    {
     "name": "stderr",
     "output_type": "stream",
     "text": [
      "GPU available: True, used: True\n",
      "TPU available: False, using: 0 TPU cores\n",
      "IPU available: False, using: 0 IPUs\n",
      "LOCAL_RANK: 0 - CUDA_VISIBLE_DEVICES: [0]\n"
     ]
    },
    {
     "name": "stdout",
     "output_type": "stream",
     "text": [
      "Epoch 1/1: 100%|██████████| 1/1 [00:28<00:00, 28.82s/it, loss=46.3, v_num=1]\n"
     ]
    }
   ],
   "source": [
    "model = mrvi.MrVI(\n",
    "        adata,\n",
    "        n_latent_sample=5,\n",
    "        linear_decoder_zx=True,\n",
    "        linear_decoder_uz=True,\n",
    "        linear_decoder_uz_scaler=True,)\n",
    "model.train(1, check_val_every_n_epoch=1, train_size=0.5)"
   ]
  },
  {
   "cell_type": "code",
   "execution_count": 28,
   "metadata": {},
   "outputs": [
    {
     "name": "stderr",
     "output_type": "stream",
     "text": [
      "100%|██████████| 3205/3205 [03:14<00:00, 16.49it/s]\n"
     ]
    },
    {
     "data": {
      "text/plain": [
       "array([[ -1.727188  ,  -0.96002334,  -0.15920436, ...,  -0.10573398,\n",
       "         -1.0412022 ,   5.924918  ],\n",
       "       [ -0.87542987, -11.801965  ,  -7.824737  , ...,   4.688609  ,\n",
       "          2.318755  ,  -7.272049  ],\n",
       "       [ -3.5731335 ,   1.2332203 ,   1.059418  , ...,   2.8871663 ,\n",
       "          4.6618104 ,   4.4962626 ],\n",
       "       ...,\n",
       "       [ -6.031334  ,  -8.389166  , -13.810276  , ...,  23.443542  ,\n",
       "         15.874462  , -25.70056   ],\n",
       "       [ -0.79780513,  -1.0290052 ,   1.5093315 , ...,  -1.4778361 ,\n",
       "         -6.384366  , -10.192635  ],\n",
       "       [ -7.3813    ,  -7.558058  , -13.311421  , ...,  14.935344  ,\n",
       "          1.5988284 ,  -4.638628  ]], dtype=float32)"
      ]
     },
     "execution_count": 28,
     "metadata": {},
     "output_type": "execute_result"
    }
   ],
   "source": [
    "model.get_latent_representation()"
   ]
  },
  {
   "cell_type": "code",
   "execution_count": 30,
   "metadata": {},
   "outputs": [
    {
     "name": "stderr",
     "output_type": "stream",
     "text": [
      "100%|██████████| 1603/1603 [01:07<00:00, 23.79it/s]\n",
      "100%|██████████| 1603/1603 [00:56<00:00, 28.26it/s]\n"
     ]
    },
    {
     "data": {
      "text/html": [
       "<pre style=\"white-space:pre;overflow-x:auto;line-height:normal;font-family:Menlo,'DejaVu Sans Mono',consolas,'Courier New',monospace\">\n",
       "Training status: Trained\n",
       "</pre>\n"
      ],
      "text/plain": [
       "\n",
       "Training status: Trained\n"
      ]
     },
     "metadata": {},
     "output_type": "display_data"
    },
    {
     "name": "stdout",
     "output_type": "stream",
     "text": [
      "\n"
     ]
    }
   ],
   "source": [
    "assert model.get_local_sample_representation().shape == (adata.shape[0], 15, 10)\n",
    "assert model.get_local_sample_representation(return_distances=True).shape == (\n",
    "    adata.shape[0],\n",
    "    15,\n",
    "    15,\n",
    ")\n",
    "# tests __repr__\n",
    "print(model)"
   ]
  },
  {
   "cell_type": "code",
   "execution_count": 29,
   "metadata": {},
   "outputs": [],
   "source": [
    "# mrvi_model.train()"
   ]
  },
  {
   "cell_type": "code",
   "execution_count": 31,
   "metadata": {},
   "outputs": [
    {
     "name": "stderr",
     "output_type": "stream",
     "text": [
      "100%|██████████| 3205/3205 [03:14<00:00, 16.45it/s]\n",
      "100%|██████████| 3205/3205 [03:15<00:00, 16.41it/s]\n",
      "100%|██████████| 1603/1603 [00:56<00:00, 28.19it/s]\n",
      "100%|██████████| 1603/1603 [00:47<00:00, 33.42it/s]\n"
     ]
    }
   ],
   "source": [
    "# # Get z representation\n",
    "adata.obsm[\"X_mrvi_z\"] = model.get_latent_representation(give_z=True)\n",
    "# # Get u representation\n",
    "adata.obsm[\"X_mrvi_u\"] = model.get_latent_representation(give_z=False)\n",
    "# # Cells by n_sample by n_latent\n",
    "cell_sample_representations = model.get_local_sample_representation()\n",
    "# # Cells by n_sample by n_sample\n",
    "cell_sample_sample_distances = model.get_local_sample_representation(return_distances=True)"
   ]
  }
 ],
 "metadata": {
  "kernelspec": {
   "display_name": "GeneratingResistance",
   "language": "python",
   "name": "python3"
  },
  "language_info": {
   "codemirror_mode": {
    "name": "ipython",
    "version": 3
   },
   "file_extension": ".py",
   "mimetype": "text/x-python",
   "name": "python",
   "nbconvert_exporter": "python",
   "pygments_lexer": "ipython3",
   "version": "3.9.16"
  },
  "orig_nbformat": 4
 },
 "nbformat": 4,
 "nbformat_minor": 2
}
