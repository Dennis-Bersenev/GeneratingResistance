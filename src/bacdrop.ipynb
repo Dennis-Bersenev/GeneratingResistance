{
 "cells": [
  {
   "cell_type": "code",
   "execution_count": null,
   "metadata": {},
   "outputs": [],
   "source": [
    "import anndata as ad\n",
    "import scvi\n",
    "import scanpy as sc\n",
    "import mrvi\n",
    "import pandas as pd\n",
    "import scipy as sp\n",
    "import numpy as np"
   ]
  },
  {
   "cell_type": "code",
   "execution_count": null,
   "metadata": {},
   "outputs": [],
   "source": [
    "def concatenate_samples(data_dir: str):\n",
    "    adata_untreated = sc.read(data_dir + 'untreated.h5ad')\n",
    "    adata_untreated.var_names_make_unique()\n",
    "\n",
    "    adata_ciprofloxacin = sc.read(data_dir + 'ciprofloxacin.h5ad')\n",
    "    adata_ciprofloxacin.var_names_make_unique()\n",
    "\n",
    "    adata_gentamicin = sc.read(data_dir + 'gentamicin.h5ad')\n",
    "    adata_gentamicin.var_names_make_unique()\n",
    "\n",
    "    adata_meropenem = sc.read(data_dir + 'meropenem.h5ad')\n",
    "    adata_meropenem.var_names_make_unique()\n",
    "\n",
    "    adata_temp = adata_untreated.concatenate(adata_ciprofloxacin, adata_gentamicin, adata_meropenem, \n",
    "                                        batch_key='sample', \n",
    "                                        batch_categories=['untreated', 'ciprofloxacin', 'gentamicin', 'meropenem'],\n",
    "                                        join='outer',\n",
    "                                        index_unique=None)\n",
    "    adata_temp.var_names_make_unique()\n",
    "    return adata_temp"
   ]
  },
  {
   "cell_type": "code",
   "execution_count": null,
   "metadata": {},
   "outputs": [],
   "source": [
    "data_dir_rep1 = './../data/replicate1/'\n",
    "data_dir_rep2 = './../data/replicate2/'\n",
    "adata_rep1 = concatenate_samples(data_dir_rep1)\n",
    "adata_rep2 = concatenate_samples(data_dir_rep2)\n",
    "\n",
    "# TODO: Maybe do the inner join, i.e. intersect on genes in both batches, and probably get rid of the unique stuff\n",
    "adata = adata_rep1.concatenate(adata_rep2, batch_key='replicate',join='outer')\n",
    "adata.var_names_make_unique()"
   ]
  }
 ],
 "metadata": {
  "language_info": {
   "name": "python"
  },
  "orig_nbformat": 4
 },
 "nbformat": 4,
 "nbformat_minor": 2
}
