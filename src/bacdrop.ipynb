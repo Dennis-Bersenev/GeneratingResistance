{
 "cells": [
  {
   "cell_type": "code",
   "execution_count": 1,
   "metadata": {},
   "outputs": [
    {
     "name": "stderr",
     "output_type": "stream",
     "text": [
      "Global seed set to 0\n",
      "/home/dennis/miniconda3/envs/compbioGPU/lib/python3.9/site-packages/flax/struct.py:132: FutureWarning: jax.tree_util.register_keypaths is deprecated, and will be removed in a future release. Please use `register_pytree_with_keys()` instead.\n",
      "  jax.tree_util.register_keypaths(data_clz, keypaths)\n",
      "/home/dennis/miniconda3/envs/compbioGPU/lib/python3.9/site-packages/flax/struct.py:132: FutureWarning: jax.tree_util.register_keypaths is deprecated, and will be removed in a future release. Please use `register_pytree_with_keys()` instead.\n",
      "  jax.tree_util.register_keypaths(data_clz, keypaths)\n",
      "/home/dennis/miniconda3/envs/compbioGPU/lib/python3.9/site-packages/flax/struct.py:132: FutureWarning: jax.tree_util.register_keypaths is deprecated, and will be removed in a future release. Please use `register_pytree_with_keys()` instead.\n",
      "  jax.tree_util.register_keypaths(data_clz, keypaths)\n"
     ]
    }
   ],
   "source": [
    "import anndata as ad\n",
    "import scvi\n",
    "import scanpy as sc\n",
    "import mrvi\n",
    "import pandas as pd\n",
    "import scipy as sp\n",
    "import numpy as np\n",
    "import pickle as pkl\n",
    "import utils\n"
   ]
  },
  {
   "attachments": {},
   "cell_type": "markdown",
   "metadata": {},
   "source": [
    "# Data Preprocessing"
   ]
  },
  {
   "cell_type": "code",
   "execution_count": 2,
   "metadata": {},
   "outputs": [],
   "source": [
    "adata = sc.read('./../data/MGH66_bacdrop.h5ad')"
   ]
  },
  {
   "cell_type": "code",
   "execution_count": 4,
   "metadata": {},
   "outputs": [
    {
     "data": {
      "text/plain": [
       "AnnData object with n_obs × n_vars = 1692542 × 3867\n",
       "    obs: 'sample', 'replicate'\n",
       "    var: 'n_cells'"
      ]
     },
     "execution_count": 4,
     "metadata": {},
     "output_type": "execute_result"
    }
   ],
   "source": [
    "sc.pp.filter_genes(adata, min_cells=20) \n",
    "adata"
   ]
  },
  {
   "cell_type": "code",
   "execution_count": 17,
   "metadata": {},
   "outputs": [
    {
     "data": {
      "text/plain": [
       "AnnData object with n_obs × n_vars = 34352 × 3867\n",
       "    obs: 'sample', 'replicate', 'n_genes', '_scvi_sample', '_scvi_labels'\n",
       "    var: 'n_cells'\n",
       "    uns: 'log1p', '_scvi_uuid', '_scvi_manager_uuid'\n",
       "    obsm: '_scvi_categorical_nuisance_keys', 'X_mrvi_z', 'X_mrvi_u'"
      ]
     },
     "execution_count": 17,
     "metadata": {},
     "output_type": "execute_result"
    }
   ],
   "source": [
    "# Anything over 50 removes most cells\n",
    "sc.pp.filter_cells(adata, min_genes=5)\n",
    "adata"
   ]
  },
  {
   "cell_type": "code",
   "execution_count": 7,
   "metadata": {},
   "outputs": [],
   "source": [
    "# u, s, vh = np.linalg.svd(adata.X.toarray()) # TODO: hyperparam tuning"
   ]
  },
  {
   "attachments": {},
   "cell_type": "markdown",
   "metadata": {},
   "source": [
    "# Running bacdrop data through MrVI"
   ]
  },
  {
   "cell_type": "code",
   "execution_count": 8,
   "metadata": {},
   "outputs": [
    {
     "name": "stderr",
     "output_type": "stream",
     "text": [
      "/home/dennis/miniconda3/envs/compbioGPU/lib/python3.9/site-packages/scvi/data/fields/_layer_field.py:78: UserWarning: adata.X does not contain unnormalized count data. Are you sure this is what you want?\n",
      "  warnings.warn(\n"
     ]
    }
   ],
   "source": [
    "mrvi.MrVI.setup_anndata(adata, sample_key=\"sample\", categorical_nuisance_keys=[\"replicate\"])\n",
    "mrvi_model = mrvi.MrVI(adata)"
   ]
  },
  {
   "cell_type": "code",
   "execution_count": 9,
   "metadata": {},
   "outputs": [
    {
     "name": "stderr",
     "output_type": "stream",
     "text": [
      "GPU available: True, used: True\n",
      "TPU available: False, using: 0 TPU cores\n",
      "IPU available: False, using: 0 IPUs\n",
      "LOCAL_RANK: 0 - CUDA_VISIBLE_DEVICES: [0]\n"
     ]
    },
    {
     "name": "stdout",
     "output_type": "stream",
     "text": [
      "Epoch 14/14: 100%|██████████| 14/14 [10:52<00:00, 46.59s/it, loss=78.6, v_num=1]\n"
     ]
    }
   ],
   "source": [
    "mrvi_model.train()"
   ]
  },
  {
   "cell_type": "code",
   "execution_count": 10,
   "metadata": {},
   "outputs": [
    {
     "name": "stderr",
     "output_type": "stream",
     "text": [
      "100%|██████████| 4478/4478 [03:39<00:00, 20.36it/s]\n"
     ]
    }
   ],
   "source": [
    "# Get z representation\n",
    "adata.obsm[\"X_mrvi_z\"] = mrvi_model.get_latent_representation(give_z=True)"
   ]
  },
  {
   "cell_type": "code",
   "execution_count": 11,
   "metadata": {},
   "outputs": [
    {
     "name": "stderr",
     "output_type": "stream",
     "text": [
      "100%|██████████| 4478/4478 [03:40<00:00, 20.32it/s]\n"
     ]
    }
   ],
   "source": [
    "# Get u representation\n",
    "adata.obsm[\"X_mrvi_u\"] = mrvi_model.get_latent_representation(give_z=False)"
   ]
  },
  {
   "cell_type": "code",
   "execution_count": 12,
   "metadata": {},
   "outputs": [
    {
     "name": "stderr",
     "output_type": "stream",
     "text": [
      "100%|██████████| 2239/2239 [00:23<00:00, 97.07it/s] \n"
     ]
    }
   ],
   "source": [
    "# Cells by n_sample by n_latent\n",
    "# representations of each cell in its local sample\n",
    "cell_sample_representations = mrvi_model.get_local_sample_representation()"
   ]
  },
  {
   "cell_type": "code",
   "execution_count": 13,
   "metadata": {},
   "outputs": [
    {
     "name": "stderr",
     "output_type": "stream",
     "text": [
      "100%|██████████| 2239/2239 [00:23<00:00, 96.89it/s] \n"
     ]
    }
   ],
   "source": [
    "# Cells by n_sample by n_sample\n",
    "# local sample-sample distances (section 3.1), quantifies differences in gene expression across biological samples (S x S), where S = set of samples\n",
    "cell_sample_sample_distances = mrvi_model.get_local_sample_representation(return_distances=True)"
   ]
  },
  {
   "cell_type": "code",
   "execution_count": 14,
   "metadata": {},
   "outputs": [
    {
     "data": {
      "text/plain": [
       "AnnData object with n_obs × n_vars = 573099 × 3867\n",
       "    obs: 'sample', 'replicate', 'n_genes', '_scvi_sample', '_scvi_labels'\n",
       "    var: 'n_cells'\n",
       "    uns: 'log1p', '_scvi_uuid', '_scvi_manager_uuid'\n",
       "    obsm: '_scvi_categorical_nuisance_keys', 'X_mrvi_z', 'X_mrvi_u'"
      ]
     },
     "execution_count": 14,
     "metadata": {},
     "output_type": "execute_result"
    }
   ],
   "source": [
    "adata"
   ]
  },
  {
   "attachments": {},
   "cell_type": "markdown",
   "metadata": {},
   "source": [
    "# Saving for futher analysis"
   ]
  },
  {
   "cell_type": "code",
   "execution_count": 15,
   "metadata": {},
   "outputs": [],
   "source": [
    "# Saved for easy reloads later\n",
    "outpath = './../data/MrVIoutputs/bacdrop_pp.h5ad' \n",
    "adata.write_h5ad(outpath)"
   ]
  },
  {
   "cell_type": "code",
   "execution_count": 16,
   "metadata": {},
   "outputs": [],
   "source": [
    "# Serializing everything for even easier reloads later\n",
    "utils.write_pickle(mrvi_model, './../data/pickles/mrvi_model.pickle')\n",
    "\n",
    "utils.write_pickle(cell_sample_representations, './../data/pickles/sample_representations.pickle')\n",
    "\n",
    "utils.write_pickle(cell_sample_sample_distances, './../data/pickles/sample_distances.pickle')"
   ]
  }
 ],
 "metadata": {
  "kernelspec": {
   "display_name": "compbioGPU",
   "language": "python",
   "name": "python3"
  },
  "language_info": {
   "codemirror_mode": {
    "name": "ipython",
    "version": 3
   },
   "file_extension": ".py",
   "mimetype": "text/x-python",
   "name": "python",
   "nbconvert_exporter": "python",
   "pygments_lexer": "ipython3",
   "version": "3.9.16"
  },
  "orig_nbformat": 4
 },
 "nbformat": 4,
 "nbformat_minor": 2
}
