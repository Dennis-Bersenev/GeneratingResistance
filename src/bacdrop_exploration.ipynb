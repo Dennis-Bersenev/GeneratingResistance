{
 "cells": [
  {
   "cell_type": "code",
   "execution_count": 29,
   "metadata": {},
   "outputs": [],
   "source": [
    "import anndata as ad\n",
    "import scvi\n",
    "import scanpy as sc\n",
    "import mrvi\n",
    "import pandas as pd\n",
    "import scipy as sp\n",
    "import numpy as np\n",
    "import pickle as pkl"
   ]
  },
  {
   "cell_type": "code",
   "execution_count": 30,
   "metadata": {},
   "outputs": [],
   "source": [
    "adata = sc.read('./../data/MrVIoutputs/bacdrop.h5ad')\n",
    "\n",
    "with open('./../data/serialized/mrvi_model.pickle', 'rb') as instream:\n",
    "    model = pkl.load(instream)"
   ]
  },
  {
   "cell_type": "code",
   "execution_count": 31,
   "metadata": {},
   "outputs": [
    {
     "data": {
      "text/plain": [
       "AnnData object with n_obs × n_vars = 1692542 × 4628\n",
       "    obs: 'sample', 'replicate', '_scvi_sample', '_scvi_labels'\n",
       "    uns: '_scvi_manager_uuid', '_scvi_uuid'\n",
       "    obsm: 'X_mrvi_u', 'X_mrvi_z', '_scvi_categorical_nuisance_keys'"
      ]
     },
     "execution_count": 31,
     "metadata": {},
     "output_type": "execute_result"
    }
   ],
   "source": [
    "adata"
   ]
  },
  {
   "cell_type": "code",
   "execution_count": 32,
   "metadata": {},
   "outputs": [
    {
     "data": {
      "text/plain": [
       "AnnData object with n_obs × n_vars = 34410 × 3766\n",
       "    obs: 'sample', 'replicate', '_scvi_sample', '_scvi_labels', 'n_genes'\n",
       "    var: 'n_cells'\n",
       "    uns: '_scvi_manager_uuid', '_scvi_uuid'\n",
       "    obsm: 'X_mrvi_u', 'X_mrvi_z', '_scvi_categorical_nuisance_keys'"
      ]
     },
     "execution_count": 32,
     "metadata": {},
     "output_type": "execute_result"
    }
   ],
   "source": [
    "sc.pp.filter_cells(adata, min_genes=20)\n",
    "sc.pp.filter_genes(adata, min_cells=3) \n",
    "adata"
   ]
  },
  {
   "cell_type": "code",
   "execution_count": 34,
   "metadata": {},
   "outputs": [
    {
     "data": {
      "text/plain": [
       "attrdict({'n_cells': 1692542, 'n_vars': 4628, 'n_sample': 4, 'n_labels': 1, 'n_categorical_nuisance_keys': 1})"
      ]
     },
     "execution_count": 34,
     "metadata": {},
     "output_type": "execute_result"
    }
   ],
   "source": [
    "model.summary_stats"
   ]
  }
 ],
 "metadata": {
  "kernelspec": {
   "display_name": "compbioGPU",
   "language": "python",
   "name": "python3"
  },
  "language_info": {
   "codemirror_mode": {
    "name": "ipython",
    "version": 3
   },
   "file_extension": ".py",
   "mimetype": "text/x-python",
   "name": "python",
   "nbconvert_exporter": "python",
   "pygments_lexer": "ipython3",
   "version": "3.9.16"
  },
  "orig_nbformat": 4
 },
 "nbformat": 4,
 "nbformat_minor": 2
}
