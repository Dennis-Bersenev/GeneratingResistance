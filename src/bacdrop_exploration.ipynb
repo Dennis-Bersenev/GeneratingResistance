{
 "cells": [
  {
   "cell_type": "code",
   "execution_count": 1,
   "metadata": {},
   "outputs": [],
   "source": [
    "import anndata as ad\n",
    "import scanpy as sc\n",
    "import pandas as pd\n",
    "import scipy as sp\n",
    "import numpy as np\n",
    "import pickle as pkl\n",
    "from sklearn.cluster import KMeans\n",
    "import igraph as ig\n",
    "import leidenalg as la\n",
    "import utils"
   ]
  },
  {
   "cell_type": "code",
   "execution_count": 2,
   "metadata": {},
   "outputs": [],
   "source": [
    "adata = sc.read('./../data/MrVIoutputs/bacdrop.h5ad')\n"
   ]
  },
  {
   "cell_type": "code",
   "execution_count": 3,
   "metadata": {},
   "outputs": [
    {
     "name": "stderr",
     "output_type": "stream",
     "text": [
      "/home/dennis/miniconda3/envs/compbioGPU/lib/python3.9/site-packages/scanpy/tools/_rank_genes_groups.py:394: PerformanceWarning: DataFrame is highly fragmented.  This is usually the result of calling `frame.insert` many times, which has poor performance.  Consider joining all columns at once using pd.concat(axis=1) instead. To get a de-fragmented frame, use `newframe = frame.copy()`\n",
      "  self.stats[group_name, 'names'] = self.var_names[global_indices]\n",
      "/home/dennis/miniconda3/envs/compbioGPU/lib/python3.9/site-packages/scanpy/tools/_rank_genes_groups.py:396: PerformanceWarning: DataFrame is highly fragmented.  This is usually the result of calling `frame.insert` many times, which has poor performance.  Consider joining all columns at once using pd.concat(axis=1) instead. To get a de-fragmented frame, use `newframe = frame.copy()`\n",
      "  self.stats[group_name, 'scores'] = scores[global_indices]\n",
      "/home/dennis/miniconda3/envs/compbioGPU/lib/python3.9/site-packages/scanpy/tools/_rank_genes_groups.py:399: PerformanceWarning: DataFrame is highly fragmented.  This is usually the result of calling `frame.insert` many times, which has poor performance.  Consider joining all columns at once using pd.concat(axis=1) instead. To get a de-fragmented frame, use `newframe = frame.copy()`\n",
      "  self.stats[group_name, 'pvals'] = pvals[global_indices]\n",
      "/home/dennis/miniconda3/envs/compbioGPU/lib/python3.9/site-packages/scanpy/tools/_rank_genes_groups.py:409: PerformanceWarning: DataFrame is highly fragmented.  This is usually the result of calling `frame.insert` many times, which has poor performance.  Consider joining all columns at once using pd.concat(axis=1) instead. To get a de-fragmented frame, use `newframe = frame.copy()`\n",
      "  self.stats[group_name, 'pvals_adj'] = pvals_adj[global_indices]\n",
      "/home/dennis/miniconda3/envs/compbioGPU/lib/python3.9/site-packages/scanpy/tools/_rank_genes_groups.py:420: PerformanceWarning: DataFrame is highly fragmented.  This is usually the result of calling `frame.insert` many times, which has poor performance.  Consider joining all columns at once using pd.concat(axis=1) instead. To get a de-fragmented frame, use `newframe = frame.copy()`\n",
      "  self.stats[group_name, 'logfoldchanges'] = np.log2(\n",
      "/home/dennis/miniconda3/envs/compbioGPU/lib/python3.9/site-packages/scanpy/tools/_rank_genes_groups.py:394: PerformanceWarning: DataFrame is highly fragmented.  This is usually the result of calling `frame.insert` many times, which has poor performance.  Consider joining all columns at once using pd.concat(axis=1) instead. To get a de-fragmented frame, use `newframe = frame.copy()`\n",
      "  self.stats[group_name, 'names'] = self.var_names[global_indices]\n",
      "/home/dennis/miniconda3/envs/compbioGPU/lib/python3.9/site-packages/scanpy/tools/_rank_genes_groups.py:396: PerformanceWarning: DataFrame is highly fragmented.  This is usually the result of calling `frame.insert` many times, which has poor performance.  Consider joining all columns at once using pd.concat(axis=1) instead. To get a de-fragmented frame, use `newframe = frame.copy()`\n",
      "  self.stats[group_name, 'scores'] = scores[global_indices]\n",
      "/home/dennis/miniconda3/envs/compbioGPU/lib/python3.9/site-packages/scanpy/tools/_rank_genes_groups.py:399: PerformanceWarning: DataFrame is highly fragmented.  This is usually the result of calling `frame.insert` many times, which has poor performance.  Consider joining all columns at once using pd.concat(axis=1) instead. To get a de-fragmented frame, use `newframe = frame.copy()`\n",
      "  self.stats[group_name, 'pvals'] = pvals[global_indices]\n",
      "/home/dennis/miniconda3/envs/compbioGPU/lib/python3.9/site-packages/scanpy/tools/_rank_genes_groups.py:409: PerformanceWarning: DataFrame is highly fragmented.  This is usually the result of calling `frame.insert` many times, which has poor performance.  Consider joining all columns at once using pd.concat(axis=1) instead. To get a de-fragmented frame, use `newframe = frame.copy()`\n",
      "  self.stats[group_name, 'pvals_adj'] = pvals_adj[global_indices]\n",
      "/home/dennis/miniconda3/envs/compbioGPU/lib/python3.9/site-packages/scanpy/tools/_rank_genes_groups.py:420: PerformanceWarning: DataFrame is highly fragmented.  This is usually the result of calling `frame.insert` many times, which has poor performance.  Consider joining all columns at once using pd.concat(axis=1) instead. To get a de-fragmented frame, use `newframe = frame.copy()`\n",
      "  self.stats[group_name, 'logfoldchanges'] = np.log2(\n",
      "/home/dennis/miniconda3/envs/compbioGPU/lib/python3.9/site-packages/scanpy/tools/_rank_genes_groups.py:394: PerformanceWarning: DataFrame is highly fragmented.  This is usually the result of calling `frame.insert` many times, which has poor performance.  Consider joining all columns at once using pd.concat(axis=1) instead. To get a de-fragmented frame, use `newframe = frame.copy()`\n",
      "  self.stats[group_name, 'names'] = self.var_names[global_indices]\n",
      "/home/dennis/miniconda3/envs/compbioGPU/lib/python3.9/site-packages/scanpy/tools/_rank_genes_groups.py:396: PerformanceWarning: DataFrame is highly fragmented.  This is usually the result of calling `frame.insert` many times, which has poor performance.  Consider joining all columns at once using pd.concat(axis=1) instead. To get a de-fragmented frame, use `newframe = frame.copy()`\n",
      "  self.stats[group_name, 'scores'] = scores[global_indices]\n",
      "/home/dennis/miniconda3/envs/compbioGPU/lib/python3.9/site-packages/scanpy/tools/_rank_genes_groups.py:399: PerformanceWarning: DataFrame is highly fragmented.  This is usually the result of calling `frame.insert` many times, which has poor performance.  Consider joining all columns at once using pd.concat(axis=1) instead. To get a de-fragmented frame, use `newframe = frame.copy()`\n",
      "  self.stats[group_name, 'pvals'] = pvals[global_indices]\n",
      "/home/dennis/miniconda3/envs/compbioGPU/lib/python3.9/site-packages/scanpy/tools/_rank_genes_groups.py:409: PerformanceWarning: DataFrame is highly fragmented.  This is usually the result of calling `frame.insert` many times, which has poor performance.  Consider joining all columns at once using pd.concat(axis=1) instead. To get a de-fragmented frame, use `newframe = frame.copy()`\n",
      "  self.stats[group_name, 'pvals_adj'] = pvals_adj[global_indices]\n",
      "/home/dennis/miniconda3/envs/compbioGPU/lib/python3.9/site-packages/scanpy/tools/_rank_genes_groups.py:420: PerformanceWarning: DataFrame is highly fragmented.  This is usually the result of calling `frame.insert` many times, which has poor performance.  Consider joining all columns at once using pd.concat(axis=1) instead. To get a de-fragmented frame, use `newframe = frame.copy()`\n",
      "  self.stats[group_name, 'logfoldchanges'] = np.log2(\n",
      "/home/dennis/miniconda3/envs/compbioGPU/lib/python3.9/site-packages/scanpy/tools/_rank_genes_groups.py:394: PerformanceWarning: DataFrame is highly fragmented.  This is usually the result of calling `frame.insert` many times, which has poor performance.  Consider joining all columns at once using pd.concat(axis=1) instead. To get a de-fragmented frame, use `newframe = frame.copy()`\n",
      "  self.stats[group_name, 'names'] = self.var_names[global_indices]\n",
      "/home/dennis/miniconda3/envs/compbioGPU/lib/python3.9/site-packages/scanpy/tools/_rank_genes_groups.py:396: PerformanceWarning: DataFrame is highly fragmented.  This is usually the result of calling `frame.insert` many times, which has poor performance.  Consider joining all columns at once using pd.concat(axis=1) instead. To get a de-fragmented frame, use `newframe = frame.copy()`\n",
      "  self.stats[group_name, 'scores'] = scores[global_indices]\n",
      "/home/dennis/miniconda3/envs/compbioGPU/lib/python3.9/site-packages/scanpy/tools/_rank_genes_groups.py:399: PerformanceWarning: DataFrame is highly fragmented.  This is usually the result of calling `frame.insert` many times, which has poor performance.  Consider joining all columns at once using pd.concat(axis=1) instead. To get a de-fragmented frame, use `newframe = frame.copy()`\n",
      "  self.stats[group_name, 'pvals'] = pvals[global_indices]\n",
      "/home/dennis/miniconda3/envs/compbioGPU/lib/python3.9/site-packages/scanpy/tools/_rank_genes_groups.py:409: PerformanceWarning: DataFrame is highly fragmented.  This is usually the result of calling `frame.insert` many times, which has poor performance.  Consider joining all columns at once using pd.concat(axis=1) instead. To get a de-fragmented frame, use `newframe = frame.copy()`\n",
      "  self.stats[group_name, 'pvals_adj'] = pvals_adj[global_indices]\n",
      "/home/dennis/miniconda3/envs/compbioGPU/lib/python3.9/site-packages/scanpy/tools/_rank_genes_groups.py:420: PerformanceWarning: DataFrame is highly fragmented.  This is usually the result of calling `frame.insert` many times, which has poor performance.  Consider joining all columns at once using pd.concat(axis=1) instead. To get a de-fragmented frame, use `newframe = frame.copy()`\n",
      "  self.stats[group_name, 'logfoldchanges'] = np.log2(\n"
     ]
    }
   ],
   "source": [
    "ranked_genes = utils.mrvi_identify_cell_states(adata, 'X_mrvi_z', neighbor_method='knn')"
   ]
  },
  {
   "cell_type": "code",
   "execution_count": 4,
   "metadata": {},
   "outputs": [],
   "source": [
    "# sc.pl.umap(adata, use_raw=True)\n",
    "# sc.pl.embedding(adata, basis='X_mrvi_z')"
   ]
  },
  {
   "cell_type": "code",
   "execution_count": 5,
   "metadata": {},
   "outputs": [],
   "source": [
    "df_og = ranked_genes\n",
    "df = df_og.copy()"
   ]
  },
  {
   "cell_type": "code",
   "execution_count": 6,
   "metadata": {},
   "outputs": [
    {
     "data": {
      "text/html": [
       "<div>\n",
       "<style scoped>\n",
       "    .dataframe tbody tr th:only-of-type {\n",
       "        vertical-align: middle;\n",
       "    }\n",
       "\n",
       "    .dataframe tbody tr th {\n",
       "        vertical-align: top;\n",
       "    }\n",
       "\n",
       "    .dataframe thead th {\n",
       "        text-align: right;\n",
       "    }\n",
       "</style>\n",
       "<table border=\"1\" class=\"dataframe\">\n",
       "  <thead>\n",
       "    <tr style=\"text-align: right;\">\n",
       "      <th></th>\n",
       "      <th>0</th>\n",
       "      <th>1</th>\n",
       "      <th>2</th>\n",
       "      <th>3</th>\n",
       "      <th>4</th>\n",
       "      <th>5</th>\n",
       "      <th>6</th>\n",
       "      <th>7</th>\n",
       "      <th>8</th>\n",
       "      <th>9</th>\n",
       "      <th>...</th>\n",
       "      <th>14</th>\n",
       "      <th>15</th>\n",
       "      <th>16</th>\n",
       "      <th>17</th>\n",
       "      <th>18</th>\n",
       "      <th>19</th>\n",
       "      <th>20</th>\n",
       "      <th>21</th>\n",
       "      <th>22</th>\n",
       "      <th>23</th>\n",
       "    </tr>\n",
       "  </thead>\n",
       "  <tbody>\n",
       "    <tr>\n",
       "      <th>0</th>\n",
       "      <td>cds-WP_002919766.1</td>\n",
       "      <td>cds-WP_004174069.1-2</td>\n",
       "      <td>cds-WP_012068464.1</td>\n",
       "      <td>cds-WP_002920554.1</td>\n",
       "      <td>cds-WP_004174069.1</td>\n",
       "      <td>cds-WP_002898162.1</td>\n",
       "      <td>cds-WP_002919796.1</td>\n",
       "      <td>cds-WP_032430362.1</td>\n",
       "      <td>cds-WP_171290763.1</td>\n",
       "      <td>cds-WP_013815099.1-30</td>\n",
       "      <td>...</td>\n",
       "      <td>cds-WP_004145074.1</td>\n",
       "      <td>cds-WP_012068464.1</td>\n",
       "      <td>cds-WP_004174069.1-2</td>\n",
       "      <td>cds-WP_013815099.1-29</td>\n",
       "      <td>cds-WP_004174069.1-2</td>\n",
       "      <td>cds-WP_013815099.1-79</td>\n",
       "      <td>cds-WP_000242758.1</td>\n",
       "      <td>cds-WP_002919219.1</td>\n",
       "      <td>cds-WP_002919773.1</td>\n",
       "      <td>cds-WP_002910077.1</td>\n",
       "    </tr>\n",
       "    <tr>\n",
       "      <th>1</th>\n",
       "      <td>cds-WP_032424651.1</td>\n",
       "      <td>cds-WP_004174069.1</td>\n",
       "      <td>cds-WP_002888735.1</td>\n",
       "      <td>cds-WP_004150943.1</td>\n",
       "      <td>cds-WP_004174069.1-2</td>\n",
       "      <td>cds-WP_002920103.1</td>\n",
       "      <td>cds-WP_012068464.1</td>\n",
       "      <td>cds-WP_050484295.1</td>\n",
       "      <td>cds-WP_032429520.1</td>\n",
       "      <td>cds-WP_013815099.1-48</td>\n",
       "      <td>...</td>\n",
       "      <td>cds-WP_001181005.1</td>\n",
       "      <td>cds-WP_002898408.1</td>\n",
       "      <td>cds-WP_032429669.1</td>\n",
       "      <td>cds-WP_013815099.1-78</td>\n",
       "      <td>cds-WP_002884743.1</td>\n",
       "      <td>cds-WP_013815099.1-35</td>\n",
       "      <td>cds-WP_002889299.1</td>\n",
       "      <td>cds-WP_032430210.1</td>\n",
       "      <td>cds-WP_002887843.1</td>\n",
       "      <td>cds-WP_021440992.1</td>\n",
       "    </tr>\n",
       "    <tr>\n",
       "      <th>2</th>\n",
       "      <td>cds-WP_020802781.1</td>\n",
       "      <td>cds-WP_004151070.1</td>\n",
       "      <td>cds-WP_004144748.1</td>\n",
       "      <td>cds-WP_002882755.1</td>\n",
       "      <td>cds-WP_002888735.1</td>\n",
       "      <td>cds-WP_032424651.1</td>\n",
       "      <td>cds-WP_000617546.1</td>\n",
       "      <td>cds-WP_002913016.1</td>\n",
       "      <td>cds-WP_179139609.1</td>\n",
       "      <td>cds-WP_013815099.1-49</td>\n",
       "      <td>...</td>\n",
       "      <td>cds-WP_004151523.1</td>\n",
       "      <td>cds-WP_002915213.1</td>\n",
       "      <td>cds-WP_012068464.1</td>\n",
       "      <td>cds-WP_013815099.1-71</td>\n",
       "      <td>cds-WP_002895166.1</td>\n",
       "      <td>cds-WP_013815099.1-63</td>\n",
       "      <td>cds-WP_050484291.1</td>\n",
       "      <td>cds-WP_002898303.1</td>\n",
       "      <td>cds-WP_002884725.1</td>\n",
       "      <td>cds-WP_002913950.1</td>\n",
       "    </tr>\n",
       "  </tbody>\n",
       "</table>\n",
       "<p>3 rows × 24 columns</p>\n",
       "</div>"
      ],
      "text/plain": [
       "                    0                     1                   2   \n",
       "0  cds-WP_002919766.1  cds-WP_004174069.1-2  cds-WP_012068464.1  \\\n",
       "1  cds-WP_032424651.1    cds-WP_004174069.1  cds-WP_002888735.1   \n",
       "2  cds-WP_020802781.1    cds-WP_004151070.1  cds-WP_004144748.1   \n",
       "\n",
       "                    3                     4                   5   \n",
       "0  cds-WP_002920554.1    cds-WP_004174069.1  cds-WP_002898162.1  \\\n",
       "1  cds-WP_004150943.1  cds-WP_004174069.1-2  cds-WP_002920103.1   \n",
       "2  cds-WP_002882755.1    cds-WP_002888735.1  cds-WP_032424651.1   \n",
       "\n",
       "                    6                   7                   8   \n",
       "0  cds-WP_002919796.1  cds-WP_032430362.1  cds-WP_171290763.1  \\\n",
       "1  cds-WP_012068464.1  cds-WP_050484295.1  cds-WP_032429520.1   \n",
       "2  cds-WP_000617546.1  cds-WP_002913016.1  cds-WP_179139609.1   \n",
       "\n",
       "                       9  ...                  14                  15   \n",
       "0  cds-WP_013815099.1-30  ...  cds-WP_004145074.1  cds-WP_012068464.1  \\\n",
       "1  cds-WP_013815099.1-48  ...  cds-WP_001181005.1  cds-WP_002898408.1   \n",
       "2  cds-WP_013815099.1-49  ...  cds-WP_004151523.1  cds-WP_002915213.1   \n",
       "\n",
       "                     16                     17                    18   \n",
       "0  cds-WP_004174069.1-2  cds-WP_013815099.1-29  cds-WP_004174069.1-2  \\\n",
       "1    cds-WP_032429669.1  cds-WP_013815099.1-78    cds-WP_002884743.1   \n",
       "2    cds-WP_012068464.1  cds-WP_013815099.1-71    cds-WP_002895166.1   \n",
       "\n",
       "                      19                  20                  21   \n",
       "0  cds-WP_013815099.1-79  cds-WP_000242758.1  cds-WP_002919219.1  \\\n",
       "1  cds-WP_013815099.1-35  cds-WP_002889299.1  cds-WP_032430210.1   \n",
       "2  cds-WP_013815099.1-63  cds-WP_050484291.1  cds-WP_002898303.1   \n",
       "\n",
       "                   22                  23  \n",
       "0  cds-WP_002919773.1  cds-WP_002910077.1  \n",
       "1  cds-WP_002887843.1  cds-WP_021440992.1  \n",
       "2  cds-WP_002884725.1  cds-WP_002913950.1  \n",
       "\n",
       "[3 rows x 24 columns]"
      ]
     },
     "execution_count": 6,
     "metadata": {},
     "output_type": "execute_result"
    }
   ],
   "source": [
    "# sc.pl.umap(adata, use_raw=False)\n",
    "df.head(3)"
   ]
  },
  {
   "cell_type": "code",
   "execution_count": 7,
   "metadata": {},
   "outputs": [],
   "source": [
    "# For each column \n",
    "for c in df.columns:\n",
    "    # For the entries in each column\n",
    "    duplicate = None\n",
    "    for i in range(len(df[c])):\n",
    "        temp = df[c][i].split('-')\n",
    "        \n",
    "        if len(temp) > 2:\n",
    "            # replace with empty string\n",
    "            if duplicate and (duplicate == temp[-1]):\n",
    "                df[c][i] = ''\n",
    "            \n",
    "            if not duplicate:\n",
    "                duplicate = temp[-1]\n",
    "            "
   ]
  },
  {
   "cell_type": "code",
   "execution_count": 8,
   "metadata": {},
   "outputs": [],
   "source": [
    "# # df.head(20)\n",
    "# # t = None\n",
    "# # t = '2'\n",
    "# # if 5==5 and t=='2':\n",
    "#     # print(\"hi\")\n",
    "\n",
    "# # df['4'][1].split('-')[-1]\n",
    "# # df.head(30)\n",
    "# d = {}\n",
    "# d['c'] = []\n",
    "# d['c'].append('vubi')\n",
    "# d['c'].append('vubibunin')\n",
    "# len(d['c'])"
   ]
  },
  {
   "cell_type": "code",
   "execution_count": 9,
   "metadata": {},
   "outputs": [],
   "source": [
    "# TODO: write only the top 30, manually create the 30-entry columns from the main df by only using the non-empty string entries!\n",
    "# df.to_csv(\"./../out/test.csv\")\n",
    "# sc.pl.embedding(adata, basis='X_mrvi_u')\n",
    "# d = {'col1': [1, 2], 'col2': [3, 4]}\n",
    "# df = pd.DataFrame(data=d)\n",
    "d = {}\n",
    "for c in df.columns:\n",
    "    d[c] = []\n",
    "    max_itr = len(df[c])\n",
    "    itr = 0\n",
    "    while (max_itr > itr) and (len(d[c]) < 30):\n",
    "        if df[c][itr] != '':\n",
    "            d[c].append(df[c][itr])\n",
    "        \n",
    "        itr += 1"
   ]
  },
  {
   "cell_type": "code",
   "execution_count": 10,
   "metadata": {},
   "outputs": [],
   "source": [
    "# (df['0'][0] != '')\n",
    "# for key in d:\n",
    "#     print(len(d[key]))\n",
    "df_top = pd.DataFrame(data=d)\n",
    "# df_top"
   ]
  },
  {
   "cell_type": "code",
   "execution_count": 11,
   "metadata": {},
   "outputs": [],
   "source": [
    "df_test = utils.filter_duplicates(df_og, 30)"
   ]
  },
  {
   "cell_type": "code",
   "execution_count": 12,
   "metadata": {},
   "outputs": [],
   "source": [
    "for c in df_test.columns:\n",
    "    for i in range(len(df_test[c])):\n",
    "        if df_top[c][i] != df_test[c][i]:\n",
    "            raise ValueError(\"Function return differs from test case\")"
   ]
  },
  {
   "cell_type": "code",
   "execution_count": 13,
   "metadata": {},
   "outputs": [],
   "source": [
    "# df_test = pd.read_csv(\"./../out/test.csv\")"
   ]
  },
  {
   "cell_type": "code",
   "execution_count": 14,
   "metadata": {},
   "outputs": [],
   "source": [
    "# for i in range(len(df_test.columns)):\n",
    "#     print(len(np.unique(df_test['0'].to_numpy())))"
   ]
  },
  {
   "attachments": {},
   "cell_type": "markdown",
   "metadata": {},
   "source": [
    "\"Multiple values can be given to color. In the following example we will plot 6 genes: ‘CD79A’, ‘MS4A1’, ‘IGJ’, CD3D’, ‘FCER1A’, and ‘FCGR3A’ to get an idea on where those marker genes are being expressed.\""
   ]
  },
  {
   "cell_type": "code",
   "execution_count": 15,
   "metadata": {},
   "outputs": [],
   "source": [
    "# TODO: figure out the markers for bacdrop and plot adding them as the colour label to identify where they're being expressed \n",
    "# e.g. sc.pl.umap(pbmc, color=['CD79A', 'MS4A1', 'IGJ', 'CD3D', 'FCER1A', 'FCGR3A', 'n_counts', 'bulk_labels'])"
   ]
  }
 ],
 "metadata": {
  "kernelspec": {
   "display_name": "compbioGPU",
   "language": "python",
   "name": "python3"
  },
  "language_info": {
   "codemirror_mode": {
    "name": "ipython",
    "version": 3
   },
   "file_extension": ".py",
   "mimetype": "text/x-python",
   "name": "python",
   "nbconvert_exporter": "python",
   "pygments_lexer": "ipython3",
   "version": "3.9.16"
  },
  "orig_nbformat": 4
 },
 "nbformat": 4,
 "nbformat_minor": 2
}
