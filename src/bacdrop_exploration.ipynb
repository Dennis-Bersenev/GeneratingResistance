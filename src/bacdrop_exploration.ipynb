{
 "cells": [
  {
   "cell_type": "code",
   "execution_count": 1,
   "metadata": {},
   "outputs": [],
   "source": [
    "import anndata as ad\n",
    "import scanpy as sc\n",
    "import pandas as pd\n",
    "import scipy as sp\n",
    "import numpy as np\n",
    "import pickle as pkl\n",
    "from sklearn.cluster import KMeans\n",
    "import igraph as ig\n",
    "import leidenalg as la\n",
    "import utils"
   ]
  },
  {
   "cell_type": "code",
   "execution_count": 2,
   "metadata": {},
   "outputs": [],
   "source": [
    "adata = sc.read('./../data/MrVIoutputs/bacdrop.h5ad')\n"
   ]
  },
  {
   "cell_type": "code",
   "execution_count": 3,
   "metadata": {},
   "outputs": [
    {
     "name": "stderr",
     "output_type": "stream",
     "text": [
      "/home/dennis/miniconda3/envs/compbioGPU/lib/python3.9/site-packages/scanpy/tools/_rank_genes_groups.py:394: PerformanceWarning: DataFrame is highly fragmented.  This is usually the result of calling `frame.insert` many times, which has poor performance.  Consider joining all columns at once using pd.concat(axis=1) instead. To get a de-fragmented frame, use `newframe = frame.copy()`\n",
      "  self.stats[group_name, 'names'] = self.var_names[global_indices]\n",
      "/home/dennis/miniconda3/envs/compbioGPU/lib/python3.9/site-packages/scanpy/tools/_rank_genes_groups.py:396: PerformanceWarning: DataFrame is highly fragmented.  This is usually the result of calling `frame.insert` many times, which has poor performance.  Consider joining all columns at once using pd.concat(axis=1) instead. To get a de-fragmented frame, use `newframe = frame.copy()`\n",
      "  self.stats[group_name, 'scores'] = scores[global_indices]\n",
      "/home/dennis/miniconda3/envs/compbioGPU/lib/python3.9/site-packages/scanpy/tools/_rank_genes_groups.py:399: PerformanceWarning: DataFrame is highly fragmented.  This is usually the result of calling `frame.insert` many times, which has poor performance.  Consider joining all columns at once using pd.concat(axis=1) instead. To get a de-fragmented frame, use `newframe = frame.copy()`\n",
      "  self.stats[group_name, 'pvals'] = pvals[global_indices]\n",
      "/home/dennis/miniconda3/envs/compbioGPU/lib/python3.9/site-packages/scanpy/tools/_rank_genes_groups.py:409: PerformanceWarning: DataFrame is highly fragmented.  This is usually the result of calling `frame.insert` many times, which has poor performance.  Consider joining all columns at once using pd.concat(axis=1) instead. To get a de-fragmented frame, use `newframe = frame.copy()`\n",
      "  self.stats[group_name, 'pvals_adj'] = pvals_adj[global_indices]\n",
      "/home/dennis/miniconda3/envs/compbioGPU/lib/python3.9/site-packages/scanpy/tools/_rank_genes_groups.py:420: PerformanceWarning: DataFrame is highly fragmented.  This is usually the result of calling `frame.insert` many times, which has poor performance.  Consider joining all columns at once using pd.concat(axis=1) instead. To get a de-fragmented frame, use `newframe = frame.copy()`\n",
      "  self.stats[group_name, 'logfoldchanges'] = np.log2(\n",
      "/home/dennis/miniconda3/envs/compbioGPU/lib/python3.9/site-packages/scanpy/tools/_rank_genes_groups.py:394: PerformanceWarning: DataFrame is highly fragmented.  This is usually the result of calling `frame.insert` many times, which has poor performance.  Consider joining all columns at once using pd.concat(axis=1) instead. To get a de-fragmented frame, use `newframe = frame.copy()`\n",
      "  self.stats[group_name, 'names'] = self.var_names[global_indices]\n",
      "/home/dennis/miniconda3/envs/compbioGPU/lib/python3.9/site-packages/scanpy/tools/_rank_genes_groups.py:396: PerformanceWarning: DataFrame is highly fragmented.  This is usually the result of calling `frame.insert` many times, which has poor performance.  Consider joining all columns at once using pd.concat(axis=1) instead. To get a de-fragmented frame, use `newframe = frame.copy()`\n",
      "  self.stats[group_name, 'scores'] = scores[global_indices]\n",
      "/home/dennis/miniconda3/envs/compbioGPU/lib/python3.9/site-packages/scanpy/tools/_rank_genes_groups.py:399: PerformanceWarning: DataFrame is highly fragmented.  This is usually the result of calling `frame.insert` many times, which has poor performance.  Consider joining all columns at once using pd.concat(axis=1) instead. To get a de-fragmented frame, use `newframe = frame.copy()`\n",
      "  self.stats[group_name, 'pvals'] = pvals[global_indices]\n",
      "/home/dennis/miniconda3/envs/compbioGPU/lib/python3.9/site-packages/scanpy/tools/_rank_genes_groups.py:409: PerformanceWarning: DataFrame is highly fragmented.  This is usually the result of calling `frame.insert` many times, which has poor performance.  Consider joining all columns at once using pd.concat(axis=1) instead. To get a de-fragmented frame, use `newframe = frame.copy()`\n",
      "  self.stats[group_name, 'pvals_adj'] = pvals_adj[global_indices]\n",
      "/home/dennis/miniconda3/envs/compbioGPU/lib/python3.9/site-packages/scanpy/tools/_rank_genes_groups.py:420: PerformanceWarning: DataFrame is highly fragmented.  This is usually the result of calling `frame.insert` many times, which has poor performance.  Consider joining all columns at once using pd.concat(axis=1) instead. To get a de-fragmented frame, use `newframe = frame.copy()`\n",
      "  self.stats[group_name, 'logfoldchanges'] = np.log2(\n"
     ]
    }
   ],
   "source": [
    "ranked_genes_knn = utils.mrvi_identify_cell_states(adata, 'X_mrvi_z', neighbor_method='knn')\n",
    "# ranked_genes_gauss = utils.mrvi_identify_cell_states(adata, 'X_mrvi_z', neighbor_method='gauss')"
   ]
  },
  {
   "cell_type": "code",
   "execution_count": 4,
   "metadata": {},
   "outputs": [],
   "source": [
    "# sc.pl.umap(adata, use_raw=True)\n",
    "# sc.pl.embedding(adata, basis='X_mrvi_z')"
   ]
  },
  {
   "cell_type": "code",
   "execution_count": 5,
   "metadata": {},
   "outputs": [],
   "source": [
    "df = ranked_genes_knn"
   ]
  },
  {
   "cell_type": "code",
   "execution_count": 6,
   "metadata": {},
   "outputs": [],
   "source": [
    "# sc.pl.umap(adata, use_raw=False)"
   ]
  },
  {
   "cell_type": "code",
   "execution_count": 37,
   "metadata": {},
   "outputs": [],
   "source": [
    "# For each column \n",
    "for c in df.columns:\n",
    "    # For the entries in each column\n",
    "    potential_duplicates = set()\n",
    "    for i in range(len(df[c])):\n",
    "        temp = df[c][i].split('-')\n",
    "        \n",
    "        if len(temp) > 2:\n",
    "            # replace with empty string\n",
    "            if temp[1] in potential_duplicates:\n",
    "                df[c][i] = ''\n",
    "            else:\n",
    "                potential_duplicates.add(temp[1])\n",
    "            "
   ]
  },
  {
   "cell_type": "code",
   "execution_count": 38,
   "metadata": {},
   "outputs": [
    {
     "data": {
      "text/plain": [
       "'WP_013815099.1'"
      ]
     },
     "execution_count": 38,
     "metadata": {},
     "output_type": "execute_result"
    }
   ],
   "source": [
    "t = df['10'][0].split('-')\n",
    "t[1]"
   ]
  },
  {
   "cell_type": "code",
   "execution_count": 39,
   "metadata": {},
   "outputs": [],
   "source": [
    "# TODO: write only the top 30, manually create the 30-entry columns from the main df by only using the non-empty string entries\n",
    "# df.to_csv(\"./../out/test.csv\")\n",
    "# sc.pl.embedding(adata, basis='X_mrvi_u')\n",
    "# d = {'col1': [1, 2], 'col2': [3, 4]}\n",
    "# df = pd.DataFrame(data=d)\n",
    "d = {}\n",
    "for c in df.columns:\n",
    "    d[c] = []\n",
    "    max_itr = len(df[c])\n",
    "    itr = 0\n",
    "    while (max_itr > itr) and (len(d[c]) < 30):\n",
    "        if df[c][itr] != '':\n",
    "            d[c].append(df[c][itr])\n",
    "        \n",
    "        itr += 1"
   ]
  },
  {
   "cell_type": "code",
   "execution_count": 51,
   "metadata": {},
   "outputs": [
    {
     "name": "stdout",
     "output_type": "stream",
     "text": [
      "terminate itr for col: c \n",
      "\n",
      "more than once?\n",
      "terminate itr for col: c \n",
      "\n",
      "more than once?\n",
      "terminate itr for col: c \n",
      "\n",
      "more than once?\n",
      "terminate itr for col: c \n",
      "\n",
      "more than once?\n",
      "terminate itr for col: c \n",
      "\n",
      "more than once?\n",
      "terminate itr for col: c \n",
      "\n",
      "terminate itr for col: c \n",
      "\n",
      "more than once?\n",
      "more than once?\n",
      "terminate itr for col: c \n",
      "\n",
      "more than once?\n",
      "more than once?\n",
      "terminate itr for col: c \n",
      "\n",
      "terminate itr for col: c \n",
      "\n",
      "more than once?\n",
      "terminate itr for col: c \n",
      "\n",
      "more than once?\n",
      "terminate itr for col: c \n",
      "\n",
      "more than once?\n",
      "more than once?\n",
      "terminate itr for col: c \n",
      "\n",
      "terminate itr for col: c \n",
      "\n",
      "more than once?\n",
      "terminate itr for col: c \n",
      "\n",
      "terminate itr for col: c \n",
      "\n",
      "more than once?\n",
      "terminate itr for col: c \n",
      "\n",
      "terminate itr for col: c \n",
      "\n",
      "more than once?\n",
      "terminate itr for col: c \n",
      "\n",
      "more than once?\n",
      "terminate itr for col: c \n",
      "\n",
      "terminate itr for col: c \n",
      "\n",
      "more than once?\n",
      "terminate itr for col: c \n",
      "\n"
     ]
    }
   ],
   "source": [
    "# (df['0'][0] != '')\n",
    "# for key in d:\n",
    "#     print(len(d[key]))\n",
    "df_top = pd.DataFrame(data=d)\n",
    "df_top.to_csv(\"./../out/knn_2.csv\")\n",
    "for c in df_top:\n",
    "    for e in df_top[c]:\n",
    "        if len(e.split('-')) > 2:\n",
    "            print(\"more than once?\")\n",
    "\n",
    "    print(\"terminate itr for col:\" + c + \"\\n\")"
   ]
  },
  {
   "cell_type": "code",
   "execution_count": 12,
   "metadata": {},
   "outputs": [],
   "source": [
    "# for c in df_test.columns:\n",
    "#     for i in range(len(df_test[c])):\n",
    "#         if df_top[c][i] != df_test[c][i]:\n",
    "#             raise ValueError(\"Function return differs from test case\")"
   ]
  },
  {
   "cell_type": "code",
   "execution_count": 13,
   "metadata": {},
   "outputs": [],
   "source": [
    "# df_test = pd.read_csv(\"./../out/test.csv\")"
   ]
  },
  {
   "cell_type": "code",
   "execution_count": null,
   "metadata": {},
   "outputs": [],
   "source": []
  },
  {
   "cell_type": "code",
   "execution_count": 14,
   "metadata": {},
   "outputs": [],
   "source": [
    "# for i in range(len(df_test.columns)):\n",
    "#     print(len(np.unique(df_test['0'].to_numpy())))"
   ]
  },
  {
   "attachments": {},
   "cell_type": "markdown",
   "metadata": {},
   "source": [
    "\"Multiple values can be given to color. In the following example we will plot 6 genes: ‘CD79A’, ‘MS4A1’, ‘IGJ’, CD3D’, ‘FCER1A’, and ‘FCGR3A’ to get an idea on where those marker genes are being expressed.\""
   ]
  },
  {
   "cell_type": "code",
   "execution_count": 15,
   "metadata": {},
   "outputs": [],
   "source": [
    "# TODO: figure out the markers for bacdrop and plot adding them as the colour label to identify where they're being expressed \n",
    "# e.g. sc.pl.umap(pbmc, color=['CD79A', 'MS4A1', 'IGJ', 'CD3D', 'FCER1A', 'FCGR3A', 'n_counts', 'bulk_labels'])"
   ]
  }
 ],
 "metadata": {
  "kernelspec": {
   "display_name": "compbioGPU",
   "language": "python",
   "name": "python3"
  },
  "language_info": {
   "codemirror_mode": {
    "name": "ipython",
    "version": 3
   },
   "file_extension": ".py",
   "mimetype": "text/x-python",
   "name": "python",
   "nbconvert_exporter": "python",
   "pygments_lexer": "ipython3",
   "version": "3.9.16"
  },
  "orig_nbformat": 4
 },
 "nbformat": 4,
 "nbformat_minor": 2
}
